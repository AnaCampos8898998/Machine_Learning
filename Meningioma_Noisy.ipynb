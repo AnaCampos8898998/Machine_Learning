{
  "cells": [
    {
      "cell_type": "markdown",
      "metadata": {
        "id": "view-in-github",
        "colab_type": "text"
      },
      "source": [
        "<a href=\"https://colab.research.google.com/github/AnaCampos8898998/Machine_Learning/blob/Proyectos/Meningioma_Noisy_Proyecto_Final.ipynb\" target=\"_parent\"><img src=\"https://colab.research.google.com/assets/colab-badge.svg\" alt=\"Open In Colab\"/></a>"
      ]
    },
    {
      "cell_type": "code",
      "execution_count": null,
      "metadata": {
        "colab": {
          "base_uri": "https://localhost:8080/"
        },
        "id": "NNTSl8ne3WEf",
        "outputId": "691ad3c6-01d9-46e1-df85-eb58f0302a57"
      },
      "outputs": [
        {
          "output_type": "stream",
          "name": "stdout",
          "text": [
            "Mounted at /content/drive\n"
          ]
        }
      ],
      "source": [
        "# Monta Google Drive en Colab\n",
        "from google.colab import drive\n",
        "drive.mount('/content/drive')"
      ]
    },
    {
      "cell_type": "code",
      "execution_count": null,
      "metadata": {
        "id": "QAAhqaov3YBZ"
      },
      "outputs": [],
      "source": [
        "# Importa las bibliotecas necesarias\n",
        "import os\n",
        "import cv2\n",
        "import numpy as np\n",
        "import matplotlib.pyplot as plt"
      ]
    },
    {
      "cell_type": "code",
      "execution_count": null,
      "metadata": {
        "id": "Ijo4Dk3Z3cCT"
      },
      "outputs": [],
      "source": [
        "def add_salt_and_pepper_noise(image, salt_prob, pepper_prob):\n",
        "    noisy_image = np.copy(image)\n",
        "    total_pixels = image.shape[0] * image.shape[1]\n",
        "    num_salt = int(total_pixels * salt_prob)\n",
        "    num_pepper = int(total_pixels * pepper_prob)\n",
        "\n",
        "    # Agrega ruido de sal\n",
        "    salt_coords = [np.random.randint(0, i - 1, num_salt) for i in image.shape]\n",
        "    noisy_image[salt_coords[0], salt_coords[1]] = 255\n",
        "\n",
        "    # Agrega ruido de pimienta\n",
        "    pepper_coords = [np.random.randint(0, i - 1, num_pepper) for i in image.shape]\n",
        "    noisy_image[pepper_coords[0], pepper_coords[1]] = 0\n",
        "\n",
        "    return noisy_image"
      ]
    },
    {
      "cell_type": "code",
      "execution_count": null,
      "metadata": {
        "id": "NNDjrGZo3ew3"
      },
      "outputs": [],
      "source": [
        "# Ruta a la carpeta en Google Drive donde se encuentran las imágenes\n",
        "folder_path = '/content/drive/MyDrive/ML_Workflow/Dataset_ML/Meningioma'"
      ]
    },
    {
      "cell_type": "code",
      "execution_count": null,
      "metadata": {
        "id": "sDPQQHQgCG5s"
      },
      "outputs": [],
      "source": [
        "# Ruta a la carpeta donde se guardarán las imágenes con ruido\n",
        "output_folder_path = '/content/drive/MyDrive/ML_Workflow/Dataset_ML/Meningioma_Noisy'"
      ]
    },
    {
      "cell_type": "code",
      "execution_count": null,
      "metadata": {
        "id": "07jErO88DpCr"
      },
      "outputs": [],
      "source": [
        "# Crea la carpeta de salida si no existe\n",
        "if not os.path.exists(output_folder_path):\n",
        "    os.makedirs(output_folder_path)"
      ]
    },
    {
      "cell_type": "code",
      "execution_count": null,
      "metadata": {
        "id": "l3ttSZeV3nga"
      },
      "outputs": [],
      "source": [
        "# Probabilidades de ruido de sal y pimienta\n",
        "salt_probability = 0.1  # Ajusta según tu preferencia\n",
        "pepper_probability = 0.15  # Ajusta según tu preferencia"
      ]
    },
    {
      "cell_type": "code",
      "execution_count": null,
      "metadata": {
        "id": "qckH3WxD3qEJ"
      },
      "outputs": [],
      "source": [
        "for i in range(1, 205):  # Suponiendo que las imágenes van de G_1.jpg a G_204.jpg\n",
        "    image_name = f'M_{i}.jpg'\n",
        "    image_path = os.path.join(folder_path, image_name)\n",
        "\n",
        "    if os.path.exists(image_path):\n",
        "      original_image = cv2.imread(image_path)\n",
        "\n",
        "      # Convierte las imágenes a escala de grises\n",
        "      gray_original_image = cv2.cvtColor(original_image, cv2.COLOR_BGR2GRAY)\n",
        "\n",
        "      # Aplica ruido de sal y pimienta a las imágenes en escala de grises\n",
        "      noisy_image = add_salt_and_pepper_noise(gray_original_image, salt_probability, pepper_probability)\n",
        "\n",
        "      # Guarda las imágenes con ruido en la carpeta de salida\n",
        "      noisy_image_name = f'{image_name}'\n",
        "\n",
        "      noisy_image_path = os.path.join(output_folder_path, noisy_image_name)\n",
        "\n",
        "      cv2.imwrite(noisy_image_path, noisy_image)\n"
      ]
    }
  ],
  "metadata": {
    "colab": {
      "provenance": [],
      "include_colab_link": true
    },
    "kernelspec": {
      "display_name": "Python 3",
      "name": "python3"
    },
    "language_info": {
      "name": "python"
    }
  },
  "nbformat": 4,
  "nbformat_minor": 0
}
